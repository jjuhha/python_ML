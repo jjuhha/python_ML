{
 "cells": [
  {
   "cell_type": "markdown",
   "metadata": {},
   "source": [
    "- 평가\n",
    "    - 정확도 : 불균형한 레이블 값 분포에서 적합한 평가 지표가 아님.\n",
    "    - 오차 행렬 (confusion matrix) : 학습된 분류 모델이 예측을 수행하면서 얼마나 confused하고 있는지 보여주는 지표. 이진 분류의 예측 오류가 얼마인지와 더불어, 어떠한 유형의 예측 오류가 발생하는지 나타냄.\n",
    "    \n",
    "    |  | 예측 Negative | 예측 Positive |\n",
    "    | --- | --- | --- |\n",
    "    | 실제 Negative | TN | FP |\n",
    "    | 실제 Positive | FN | TP |\n",
    "    - **정밀도** : 예측 Positive 중 실제 Positive\n",
    "        - 실제 음성인데, 데이터 예측을 양성으로 해버리면 업무상 큰 영향이 있는 경우 중요 → **FP를 낮춰야 함.**\n",
    "        - 스팸메일로 예측한 메일이 실제 스팸일 확률 → 실제로 스팸메일인데, 스팸메일로 예측할 확률보다 더 중요. 중요한 메일을 스팸 메일로 분류해버리면, 업무에 차질이 생김.\n",
    "    - **재현율** : 실제 Positive 중 예측 Positive\n",
    "        - 실제 양성인데, 음성으로 예측해버리면 업무상 큰 영향이 있는 경우에 중요. → **FN을 낮춰야 함**.\n",
    "        - 암환자를 암환자로 예측할 확률\n",
    "        - 사기 거래를 사기 거래로 판단할 확률\n",
    "    - 정밀도와 재현율 모두 높은 수치를 얻는 것이 가장 좋음! 하지만 트레이드오프 관계.\n",
    "    - predict_proba의 결과는 [0일 확률, 1일 확률]이고, predict는 특정 기준으로 높은 확률을 가지는 값을 반환한다. 이 기준은 **임계값이고, 기본적으로 0.5로 설정되어있다.  이 값을 0.4로 낮춘다면, positive로 예측할 확률이 높아진다. 재현율 값은 올라가고 정밀도는 떨어진다.**\n",
    "        \n",
    "        ![Untitled](https://prod-files-secure.s3.us-west-2.amazonaws.com/46098bc5-caef-46a4-8223-8bcccc9c8fd3/16229c14-2b54-4721-afb3-099a99f06d45/Untitled.png)\n",
    "        \n",
    "    - F1 스코어\n",
    "        - 정밀도와 재현율을 결합한 지표. 어느 한쪽으로 치우치지 않을 때 높은 값을 가짐.\n",
    "    - ROC 곡선과 AUC\n",
    "        - https://angeloyeo.github.io/2020/08/05/ROC.html"
   ]
  }
 ],
 "metadata": {
  "language_info": {
   "name": "python"
  }
 },
 "nbformat": 4,
 "nbformat_minor": 2
}
